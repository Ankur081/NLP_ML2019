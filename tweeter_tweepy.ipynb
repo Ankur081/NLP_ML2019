{
 "cells": [
  {
   "cell_type": "code",
   "execution_count": 10,
   "metadata": {},
   "outputs": [
    {
     "name": "stdout",
     "output_type": "stream",
     "text": [
      "Enter topic:sachin\n",
      "['RT @DHONIism: Fastest Player To Score 6K Runs In ODI (Outside Home)\\n\\nKohli- OneDown -129 Innings \\nPointing -OneDown - 157 Inns\\nGanguly - Op…', 'RT @DHONIism: Fastest Player To Score 6K Runs In ODI (Outside Home)\\n\\nKohli- OneDown -129 Innings \\nPointing -OneDown - 157 Inns\\nGanguly - Op…', 'RT @DHONIism: Fastest Player To Score 6K Runs In ODI (Outside Home)\\n\\nKohli- OneDown -129 Innings \\nPointing -OneDown - 157 Inns\\nGanguly - Op…', 'That was some stupid question by KJ on the set of Coffee with Karan...how can on earth someone ask who is better ba… https://t.co/1UIQXYRD8j', \"RT @etimes: Watch the intriguing trailer of 'Me Pan Sachin' starring @swwapniljoshi\\nhttps://t.co/MyNihtkcOp\", \"RT @iamkrm16: Sachin Sachin....🔥🔥🔥\\nHere Iz The Trailer!!\\nघेऊन आलोय 'मी पण सचिन'चा ट्रेलर.\\n@swwapniljoshi @EverestMarathi\\n@52fridaycinemas\\n@…\", \"RT @marathimovies: स्वप्न त्यांचीच होतात पूर्ण ज्यांच्यात असते बंधनं झुगारण्याची धमक! 🎞️अशाच एका जिगरबाज मनाची गोष्ट, 'मी पण सचिन'!\\n'मी पण…\", 'RT @GabbbarSingh: If you had to make an all time great Indian ODI side for this World Cup, who would you choose? (Assume players in their p…', 'RT @kumarnandaj: Kerala created history, storms into Renji Trophy semifinals.. Congrats Sachin Baby, Basil Thampi, Sandeep and Sanju who ba…', 'RT @rakumar2008: thanks @rsprasad @Manekagandhibjp as they are not able to listen the pain of innocent men  and their family.\\nWomen should…', \"RT @etimes: Watch the intriguing trailer of 'Me Pan Sachin' starring @swwapniljoshi\\nhttps://t.co/MyNihtkcOp\", 'RT @DHONIism: Fastest Player To Score 6K Runs In ODI (Outside Home)\\n\\nKohli- OneDown -129 Innings \\nPointing -OneDown - 157 Inns\\nGanguly - Op…', \"RT @beingmarathin: स्वप्न त्यांचीच होतात पूर्ण ज्यांच्यात असते बंधनं झुगारण्याची धमक!\\nअशाच एका जिगरबाज मनाची गोष्ट, 'मी पण सचिन'!\\n\\nघेऊन आलो…\", 'RT @CircleofSports1: ”He (Dhoni) is someone who loves to play a few dot balls, understand the wicket, how the bowlers are bowling and likes…', 'https://t.co/a3JeSajz4W', 'RT @jrcrjdcr: यही होना चाहिए, DP3 का मुकदमा लड़की पक्ष पर भी दर्ज होना चाहिए। अच्छी शुरुआत है, बाकी प्रदेशों की पुलिस और कोर्ट को भी शुरुआत…', 'RT @DHONIism: Fastest Player To Score 6K Runs In ODI (Outside Home)\\n\\nKohli- OneDown -129 Innings \\nPointing -OneDown - 157 Inns\\nGanguly - Op…', 'RT @manakgupta: अगर @arunjaitley समय रहते स्वस्थ नहीं हुए तो 1 फ़रवरी को ‘अंतरिम बजट’ कौन पेश करेगा 🤔 @narendramodi', 'RT @DHONIism: Fastest Player To Score 6K Runs In ODI (Outside Home)\\n\\nKohli- OneDown -129 Innings \\nPointing -OneDown - 157 Inns\\nGanguly - Op…', 'RT @couchbase: Webinar: Join @451Research\\'s Matt Aslett and #Couchbase\\'s Sachin Smotra who will be presenting on \"Four Steps to Enabling Re…', \"RT @MarathiCineyug: स्वप्न नुसती बघायची नसतात, ती पूर्ण पण करायची असतात.\\nस्वप्नपूर्तीचा हा प्रवास घेऊन 'मी पण सचिन' चा ट्रेलर येतोय उद्या!…\", 'RT @Vidyadhar_R: @sachin_rt says @msdhoni Controls the game from One End!!\\n\\n#Sachin #Dhoni https://t.co/QvvoNRVYeI', \"RT @beingmarathin: स्वप्न त्यांचीच होतात पूर्ण ज्यांच्यात असते बंधनं झुगारण्याची धमक!\\nअशाच एका जिगरबाज मनाची गोष्ट, 'मी पण सचिन'!\\n\\nघेऊन आलो…\", 'RT @Jagatra83808160: #2days4hike80\\n#बॉलीवुड_ने_देश_बिगाड़ा\\nसत्संग में बताया जाता है कि परमात्मा का नाम जाप करो तथा शुभ कर्म करो। पता नहीं क…', 'RT @DHONIism: Fastest Player To Score 6K Runs In ODI (Outside Home)\\n\\nKohli- OneDown -129 Innings \\nPointing -OneDown - 157 Inns\\nGanguly - Op…', 'Sachin Tendulkar expects MS Dhoni to control the game from one end now\\n https://t.co/tZxydJu90P', 'Fastest To 4000 Partnership Runs In Odi By Openers (Indians)\\n\\nSachin &amp; Ganguly - 87 Inngs\\nRohit &amp; Dhawan - 90 Inngs*', 'RT @ram_krisz: ♥️@sachin_rt♥️ https://t.co/rnEhNwRIS3', 'RT @DHONIism: Fastest Player To Score 6K Runs In ODI (Outside Home)\\n\\nKohli- OneDown -129 Innings \\nPointing -OneDown - 157 Inns\\nGanguly - Op…', 'みてみて！！！！\\n学校の授業で自画像描いたらSNOW反応した😳✨\\nほんで自画像理想の自分が出来てしまった(#美化) https://t.co/XoU7YgELA0', 'https://t.co/WC6u0qtupQ', \"RT @ram_krisz: Shewag\\n     Do or Die😎\\nSachin\\n     Don't Die Until Do💪\\nDravid\\n     Play Until Bowlers Die😂\\n\\n#HappyBirthdayRahulDravid https:…\", \"RT @marathimovies: स्वप्न त्यांचीच होतात पूर्ण ज्यांच्यात असते बंधनं झुगारण्याची धमक! 🎞️अशाच एका जिगरबाज मनाची गोष्ट, 'मी पण सचिन'!\\n'मी पण…\", 'RT @vishalmisra: Here’s another one on an ambidextrous player. We have by now been reminded of when Gavaskar batted left handed to save a g…', 'RT @rahulpatoniya: रोहित वेमुला: मुल्क के विवेक पर एक चिट्ठी की दस्तक के तीन साल\\n#RohithVemula #HyderabadCentralUniversity #HCU #CasteDiscr…', 'RT @LolaFlanery: Just trying to stop @Sachin_Sahel from spilling the tea 😏 #The100 #UnityDays https://t.co/Z8gygiNU9a', 'RT @RohiniSahu16: #बॉलीवुड_ने_देश_बिगाड़ा\\nयदि आप कोई धार्मिक बात को सुनते हो तो आप का मन कुछ अच्छा करने की सोचता\\nउसी प्रकार  जब फिल्मों मे…', '@Alisha56723981 @msdhoni @imVkohli @SGanguly99 @sachin_rt 1', '@imjadeja \\n@sachin_rt \\n@imShard https://t.co/oer8IQ1cil', \"स्वप्न त्यांचीच होतात पूर्ण ज्यांच्यात असते बंधनं झुगारण्याची धमक! 🎞️अशाच एका जिगरबाज मनाची गोष्ट, 'मी पण सचिन'!\\n'… https://t.co/6wwPpd3PHU\", 'RT @kumarnandaj: Kerala created history, storms into Renji Trophy semifinals.. Congrats Sachin Baby, Basil Thampi, Sandeep and Sanju who ba…', '@timesnowsports @TimesNow @imjadeja @sachin_rt I love you Cham n you make all bapus proud as well including me. I’m bapu married to a patel', 'RT @DHONIism: Fastest Player To Score 6K Runs In ODI (Outside Home)\\n\\nKohli- OneDown -129 Innings \\nPointing -OneDown - 157 Inns\\nGanguly - Op…', '@RIS_NewDelhi @VisionIndiaFdn @MEAIndia @indiatoasean @ASEAN @AmbMoKumar @Sachin_Chat Happy interacting with them at RIS.', '@BCCIdomestic @mandakini_ @Sheffalee @rajasthanroyals @imVkohli @IPL @Ra_THORe @KCAcricket @ShashiTharoor… https://t.co/D45tsGUTz6', 'RT @RIS_NewDelhi: RIS Welcomes Young Diplomats from #ASEAN Countries @VisionIndiaFdn @MEAIndia @indiatoasean @ASEAN @AmbMoKumar  @Sachin_Ch…', 'RT @DHONIism: Fastest Player To Score 6K Runs In ODI (Outside Home)\\n\\nKohli- OneDown -129 Innings \\nPointing -OneDown - 157 Inns\\nGanguly - Op…', 'RT @RashmiRode: #बॉलीवुड_ने_देश_बिगाड़ा aaj filmo  m aslil  gaane  aur aslilata itni bad gayi hai hamara samajh ganda hota  ja raha.striya…', \"RT @Tradeciety: An updated recommended reading list with my favorite books\\n\\nWhat's your favorite? https://t.co/mKNsZu5lNX\", 'RT @manjuchouhan6: #Praygraj\\nकुंभ मेला प्रेमियों से निवेदन है कि भगवान धरती पर प्रकट हो चुके हैं \\nओर वह है कोन?\\nजानने के लिए अवश्य देखे…', 'ਕੀ ਮਾਸਟਰ ਬਲਾਸਟਰ ਦੀ ਇਸ ਇੱਛਾ ਨੂੰ ਪੂਰਾ ਕਰਨਗੇ ਧੋਨੀ!  https://t.co/bE8F7cHmtj  \\n\\n#MSDhoni #SachinTendulkar @msdhoni… https://t.co/wbkjrPRDPn', 'SacHin Aggarwal Sachin Aggarwal 😍😇💖💞😘 https://t.co/d7IXyJCcpA', 'RT @Keerthy177: My cute Angel @KeerthyOfficial ❤❤❤❤❤\\n#KeerthySuresh #MakkalSelvi @\\n#Keerthy https://t.co/Z4z1z3srjk', '@LivePvr @BTS_twt @bts_bighit @bangtan_india @BTS_IndianARMYs Kim Taehyung \\U0001f970\\n\\n #BTS. Stand a chance to win a… https://t.co/oR5yJCIiBK', \"RT @DuttYogi: 'पाकिस्तान जिंदाबाद' के नारे लगाने वाले देशभक्त हैं क्या? ये हमारे देश का कानून ही है जो इन्हें अब तक बचा रहा है, ये किसी और…\", '見せ合いできる人いる？？できる人ラインきて！\\n☆☆☆☆☆☆\\n\\n#オナムビ\\n#LINE', 'https://t.co/BG7BMt7JQU', '@RamNiwas670 @sachin_rt @virendersehwag @imVkohli @GautamGambhir @msdhoni @ImZaheer @Jaspritbumrah93… https://t.co/SzpQ764DIE', 'RT @KikiVijay: சிறப்பான தரமான சம்பவங்களை இனிமே தான் பார்க்க போரெ \\n💪🏻🥊🥊\\n#10YearChallenge https://t.co/ciT0QKnKtW', 'さすけぇええwww', 'All-time ODI India XI - \\n\\n1) Sachin\\n2) Virender Sehwag\\n3) Virat Kohli\\n4) Sourav Ganguly\\n5) Rahul Dravid\\n6) Yuvraj… https://t.co/OOT2sVH14E', 'RT @aleshadiary: AVIYAL - Avial Recipe -அவியல்  https://t.co/eVKYebCYHd https://t.co/gGyUz9zp0P', '@sachin_rt says @msdhoni Controls the game from One End!!\\n\\n#Sachin #Dhoni https://t.co/QvvoNRVYeI', 'Now Playing Aastha Gill, Divya Kumar, Sachin-Jigar - Kamariya #aasthagill, #divyakumar, @sachinjigarlive https://t.co/Xc1cZ9z2PO', 'My all time Indian world cup team \\nHere we go =\\n1)@sachin_rt \\n2)@ImRo45 \\n3)@GautamGambhir \\n4)@SGanguly99 (Cap)\\n5)… https://t.co/4iu2yn8PSD', 'RT @psraaak: @BrokenCricket 10 years ago sachin uses adidas and Gautham gambhir uses MRF i think 😟😟', 'RT @CrickeTendulkar: Because Somethings Never Changed !!\\n\\nyears may come and go , players may come and go,\\nbut the way Sachin Tendulkar Car…', 'https://t.co/a7pnXTZZ7c', '#advisory_member- Dr. Sachin Jhavar (Director) Apex Hospital, Jaipur #JHF #JHF2019  #Sachin_Jhavar #Director… https://t.co/a2k8S7n4XG', 'RT @DHONIism: Fastest Player To Score 6K Runs In ODI (Outside Home)\\n\\nKohli- OneDown -129 Innings \\nPointing -OneDown - 157 Inns\\nGanguly - Op…', \"RT @TimesNow: Your pocket, their propaganda. Patnaik on a 'populist' high. Contingency coffer drained. Rs 734,66,00,000 withdrawn. Removes…\", 'रोहित वेमुला: मुल्क के विवेक पर एक चिट्ठी की दस्तक के तीन साल\\n#RohithVemula #HyderabadCentralUniversity #HCU… https://t.co/vlA0o9dosH', 'https://t.co/eWhhm4jPj5', 'RT @DHONIism: Fastest Player To Score 6K Runs In ODI (Outside Home)\\n\\nKohli- OneDown -129 Innings \\nPointing -OneDown - 157 Inns\\nGanguly - Op…', 'RT @HikeFellowship: Once again thanks to @ravishndtv ji for raising tje matter in NDTV-PrimeTime.\\n#16janMHRD\\n#Blackday4anusandhan\\n#hikerese…', 'Batsmaship were set and excellence in art was the buzzword, cricket was in need of international superstar and Sachin provided ideal ground', '\"Fastest To 4000 Partnership Runs In Odi By Openers (Indians)\\n\\nSachin &amp; Ganguly - 87 Inngs\\nRohit &amp; Dhawan - 90 Inngs*\"', '@surya_14kumar @ImRo45 How r u bro \\nLong see no time', 'BJP on Twitter https://t.co/WdIAMQp6dI', 'RT @Hemarukmani1: Pictures with Thalapathy a decade apart, grinning wide, enjoying the #fanmoment #10yearchallenge #nofilterneeded #alwaysa…', 'RT @muglikar_: Positive news for the day. Sadhus attending #KumbhMela2019 are all Praises for clean Ganga ghats and the river itself. They…', '@ImRo45 Super Ji', '@imShard \\n@Seiminlen_9 \\n@sachin_rt https://t.co/0Y5758AIlE', 'RT @DHONIism: Fastest Player To Score 6K Runs In ODI (Outside Home)\\n\\nKohli- OneDown -129 Innings \\nPointing -OneDown - 157 Inns\\nGanguly - Op…', 'കേരളത്തിന്റെ സ്വന്തം പേസ് ത്രയം; കയ്യടി; ചാരിതാർഥ്യമെന്ന് ക്യാപ്റ്റൻ https://t.co/91ydWQJTsH', \"#Science MS Dhoni looked like a changed player in India's run-chase at Adelaide, says Sachin Tendulkar - Times Now… https://t.co/ZcdTz2M2FJ\", 'RT @DHONIism: Fastest Player To Score 6K Runs In ODI (Outside Home)\\n\\nKohli- OneDown -129 Innings \\nPointing -OneDown - 157 Inns\\nGanguly - Op…', 'Cricket as religion happened in Sachin era,a diminutive figure to dominate international cricket for two decades,new standards of perfect', 'RT @DHONIism: Fastest Player To Score 6K Runs In ODI (Outside Home)\\n\\nKohli- OneDown -129 Innings \\nPointing -OneDown - 157 Inns\\nGanguly - Op…', '@SGanguly99 \\n@Seiminlen_9 \\n@sachin_rt', '@mssirsa @INCIndia If you had forgotten sir. Punjab is under rule of Congress. They had voted them and forgotten the massacre.', 'RT @DineshK83191465: ना ही @BCCI ना ही भारत,राज्य सरकार से कोई सुविधा नहीं मिलती है दिव्यांग क्रिकेट और क्रिकेटरों कोplz Support Divyang Cr…', 'RT @DHONIism: Fastest Player To Score 6K Runs In ODI (Outside Home)\\n\\nKohli- OneDown -129 Innings \\nPointing -OneDown - 157 Inns\\nGanguly - Op…', 'RT @CrickeTendulkar: Because Somethings Never Changed !!\\n\\nyears may come and go , players may come and go,\\nbut the way Sachin Tendulkar Car…', '@timesofindia Whats happening in this country...! Now this women will ask for Z+ security to save her from her M-i-L 😂😂😂😂', 'RT @madhu7781: \"He (Dhoni) is someone who loves to play a few dot balls, understand the wicket, how the bowlers are bowling and likes to ta…', 'RT @excomradekerala: I had a friend Biju, a fast bowler in our school cricket team, who once  challenged Sachin Tendulkar @sachin_rt to com…', 'Kerala in semi final 😁\\nCongratulations \\n@CMOKerala \\n@BCCIdomestic\\n@jalajsaxena15 @sachin_rt #Keralainsemis', '@sachin_rt @imVkohli @msdhoni @DineshKarthik Ms Dhoni Is Back', 'RT @circleofcricket: ”He (Dhoni) is someone who loves to play a few dot balls, understand the wicket, how the bowlers are bowling and likes…']\n",
      "100\n"
     ]
    }
   ],
   "source": [
    "import tweepy \n",
    "\n",
    "consumer_key = \"nhnp97lCDVwspC8yBRKw5omdx\"\n",
    "consumer_secret = \"gxWbWuWZkta5ubIVHVNi6euExHUTcw9PsluOUjSCfcWA54zzlV\"\n",
    "access_key = \"1085505860036489216-cAdYwXo8eCPSAmbzQYKopClr8mgCUa\"\n",
    "access_secret = \"68AVrlHFgdkxmHmr7ulkAwA1M0iZRKyBuactw8U5fVVSx\"\n",
    "\n",
    "# Function to extract tweets \n",
    "def get_tweets(username):  \n",
    "\t\tauth = tweepy.OAuthHandler(consumer_key, consumer_secret) \n",
    "\n",
    " \n",
    "\t\tauth.set_access_token(access_key, access_secret) \n",
    "\n",
    "\t\t# Calling api \n",
    "\t\tapi = tweepy.API(auth) \n",
    "\n",
    "\t\t# 200 tweets to be extracted \n",
    "\t\tnumber_of_tweets=50\n",
    "\t\ttweets = api.search(q=username,count=100) \n",
    "\t\ttmp=[]\n",
    "\t\t# tweet id, date/time, text \n",
    "\t\ttweets_for_csv = [tweet.text for tweet in tweets] # CSV file created \n",
    "\t\tfor j in tweets_for_csv: \n",
    "\n",
    "\t\t\t# Appending tweets to the empty array tmp \n",
    "\t\t\ttmp.append(j) \n",
    "\n",
    "\t\t# Printing the tweets \n",
    "\t\tprint(tmp) \n",
    "\t\tprint(len(tmp))\n",
    "\n",
    "# Driver code \n",
    "if __name__ == '__main__': \n",
    "\tpd=input(\"Enter topic:\")\n",
    "get_tweets(pd) \n",
    "    \n"
   ]
  },
  {
   "cell_type": "code",
   "execution_count": null,
   "metadata": {},
   "outputs": [],
   "source": []
  },
  {
   "cell_type": "code",
   "execution_count": null,
   "metadata": {},
   "outputs": [],
   "source": []
  }
 ],
 "metadata": {
  "kernelspec": {
   "display_name": "Python 3",
   "language": "python",
   "name": "python3"
  },
  "language_info": {
   "codemirror_mode": {
    "name": "ipython",
    "version": 3
   },
   "file_extension": ".py",
   "mimetype": "text/x-python",
   "name": "python",
   "nbconvert_exporter": "python",
   "pygments_lexer": "ipython3",
   "version": "3.6.7"
  }
 },
 "nbformat": 4,
 "nbformat_minor": 2
}
